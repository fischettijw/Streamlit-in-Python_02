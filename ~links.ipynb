{
 "cells": [
  {
   "cell_type": "markdown",
   "metadata": {},
   "source": [
    "[Python Streamlit - 46 videos](https://www.youtube.com/watch?v=RjiqbTLW9_E&list=PLa6CNrvKM5QU7AjAS90zCMIwi9RTFNIIW&index=2)\n",
    "\n",
    "[Streamlit - Data Science - 53 videos](https://youtu.be/ZZ4B0QUHuNc?list=PLtqF5YXg7GLmCvTswG32NqQypOuYkPRUE)\n",
    "\n",
    "[Streamlit Cheat Sheet](https://cheat-sheet.streamlit.app/)\n",
    "\n",
    "[Latex Cheat Sheet](chrome-extension://efaidnbmnnnibpcajpcglclefindmkaj/https://users.dickinson.edu/~richesod/latex/latexcheatsheet.pdf)\n",
    "\n",
    "[Katex](https://katex.org/docs/supported.html)\n",
    "\n",
    "[Table of symbols and synonyms](https://github.com/mvoidex/UnicodeMath/blob/master/table.md)\n"
   ]
  }
 ],
 "metadata": {
  "language_info": {
   "name": "python"
  }
 },
 "nbformat": 4,
 "nbformat_minor": 2
}
